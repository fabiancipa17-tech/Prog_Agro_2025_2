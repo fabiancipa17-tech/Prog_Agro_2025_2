{
  "nbformat": 4,
  "nbformat_minor": 0,
  "metadata": {
    "colab": {
      "provenance": [],
      "authorship_tag": "ABX9TyPHTQfI+ffCWpIMDHuTtnXH",
      "include_colab_link": true
    },
    "kernelspec": {
      "name": "python3",
      "display_name": "Python 3"
    },
    "language_info": {
      "name": "python"
    }
  },
  "cells": [
    {
      "cell_type": "markdown",
      "metadata": {
        "id": "view-in-github",
        "colab_type": "text"
      },
      "source": [
        "<a href=\"https://colab.research.google.com/github/fabiancipa17-tech/Prog_Agro_2025_2/blob/main/Semana_2_y_3.ipynb\" target=\"_parent\"><img src=\"https://colab.research.google.com/assets/colab-badge.svg\" alt=\"Open In Colab\"/></a>"
      ]
    },
    {
      "cell_type": "code",
      "execution_count": null,
      "metadata": {
        "id": "Lf67vV9_sBJQ"
      },
      "outputs": [],
      "source": []
    },
    {
      "cell_type": "markdown",
      "source": [
        "# Situación 1: Clasificador de pH del Suelo\n",
        "El pH del suelo es un factor crítico para la absorción de nutrientes por parte de las plantas. Desarrollarás un programa que recibe un valor de pH e informa al agricultor si el suelo es ácido, neutro o alcalino, ofreciendo una recomendación general."
      ],
      "metadata": {
        "id": "IMMzylevsmJj"
      }
    },
    {
      "cell_type": "code",
      "source": [
        " # Explicar al usuario que el programa clasifica el pH del suelo.\n",
        " print(\"Este programa clasifica el pH del suelo.\")\n",
        "\n",
        " # Pedir al usuario que ingrese el valor de pH medido (puede ser decimal).\n",
        " pH = float(input(\"Por favor, ingrese el valor de pH medido: \"))\n",
        "\n",
        " # Utilizar una estructura 'if' para la primera condición: si el pH es menor que 6.5.\n",
        " if pH < 7:\n",
        "    print(\"El suelo es ácido.\")\n",
        "    # Dentro del 'if', mostrar un mensaje indicando que el suelo es \"Ácido\" y recomendar el uso de cal agrícola.\n",
        "    print(\"Es recomendable usar cal relayed.\")\n",
        "elif pH == 7:\n",
        "    print(\"El suelo es neutro.\")\n",
        "elif pH > 7:\n",
        "    print(\"El suelo es alcalino.\")\n",
        "    print(\"Recomendamos el uso de sulfato\")\n",
        "\n",
        "\n",
        "\n",
        "\n"
      ],
      "metadata": {
        "colab": {
          "base_uri": "https://localhost:8080/"
        },
        "id": "pVeaSjYYswSY",
        "outputId": "31de2f05-4b93-4d1e-8670-068bb47fdb42"
      },
      "execution_count": 3,
      "outputs": [
        {
          "output_type": "stream",
          "name": "stdout",
          "text": [
            "Este programa clasifica el pH del suelo.\n",
            "Por favor, ingrese el valor de pH medido: 8\n",
            "El suelo es alcalino.\n",
            "Recomendamos el uso de sulfato\n"
          ]
        }
      ]
    },
    {
      "cell_type": "markdown",
      "metadata": {
        "id": "aaaee51f"
      },
      "source": [
        "El código clasifica el pH del suelo y ofrece recomendaciones:\n",
        "\n",
        "*   `print(\"Este programa clasifica el pH del suelo.\")`: Imprime un mensaje introductorio explicando el propósito del programa.\n",
        "*   `pH = float(input(\"Por favor, ingrese el valor de pH medido: \"))`: Solicita al usuario que ingrese el valor de pH y lo almacena como un número decimal en la variable `pH`.\n",
        "*   `if pH < 7:`: Comienza una estructura condicional. Si el valor de `pH` es menor que 7, se ejecuta el bloque de código dentro de este `if`.\n",
        "*   `print(\"El suelo es ácido.\")`: Si el pH es menor que 7, imprime que el suelo es ácido.\n",
        "*   `print(\"Es recomendable usar cal relayed.\")`: Dentro del bloque `if`, recomienda el uso de cal agrícola para suelo ácido.\n",
        "*   `elif pH == 7:`: Si la condición anterior (`pH < 7`) no se cumple, verifica si el valor de `pH` es exactamente igual a 7.\n",
        "*   `print(\"El suelo es neutro.\")`: Si el pH es igual a 7, imprime que el suelo es neutro.\n",
        "*   `elif pH > 7:`: Si las condiciones anteriores (`pH < 7` y `pH == 7`) no se cumplen, verifica si el valor de `pH` es mayor que 7.\n",
        "*   `print(\"El suelo es alcalino.\")`: Si el pH es mayor que 7, imprime que el suelo es alcalino.\n",
        "*   `print(\"Recomendamos el uso de sulfato\")`: Dentro del bloque `elif` (para pH > 7), recomienda el uso de sulfato para suelo alcalino."
      ]
    },
    {
      "cell_type": "markdown",
      "source": [
        "# Situación 2: Simulación de Crecimiento de un Cultivo\n",
        "Un agrónomo quiere simular el crecimiento en altura de una planta durante 5 semanas. La planta crece a una tasa diferente cada semana. El programa debe solicitar la tasa de crecimiento de cada semana y mostrar la altura total al final.\n"
      ],
      "metadata": {
        "id": "FQSdt80nyOZH"
      }
    },
    {
      "cell_type": "code",
      "source": [
        "# Inicializar una variable para la altura total de la planta en cero.\n",
        "altura = 0\n",
        "\n",
        "# Mostrar un mensaje que indique que se simulará el crecimiento durante 5 semanas.\n",
        "print(\"simulación de crecimiento durante 5 semanas\")\n",
        "\n",
        "# Crear un bucle 'for' que se repita 5 veces (una por cada semana).\n",
        "for semana in range(1, 6):\n",
        "    \"\"\"\n",
        "    Dentro del bucle, pedir al usuario el crecimiento de la planta para la semana\n",
        "    actual (ej. \"Ingrese el crecimiento en cm para la semana 1:\").\n",
        "\n",
        "    \"\"\"\n",
        "    crecimiento = float(input(f\"Ingrese el crecimiento en cm para la semana {semana + 1}: \"))\n",
        "\n",
        "    # Actualizar la altura total de la planta sumándole el crecimiento de la semana actual.\n",
        "    altura += crecimiento\n",
        "# Después de que el bucle termine, mostrar la altura total acumulada de la planta.\n",
        "print(f\"La altura total de la planta después de 5 semanas es de {altura} cm.\")\n",
        "print(f\"La altura total de la planta es: {altura}\")\n",
        "\n",
        "\n",
        "\n"
      ],
      "metadata": {
        "colab": {
          "base_uri": "https://localhost:8080/"
        },
        "id": "i3lq7i3Iyao9",
        "outputId": "3378e52f-2a2e-4233-b264-ffc833a758e2"
      },
      "execution_count": 5,
      "outputs": [
        {
          "output_type": "stream",
          "name": "stdout",
          "text": [
            "simulación de crecimiento durante 5 semanas\n",
            "Ingrese el crecimiento en cm para la semana 2: 11\n",
            "Ingrese el crecimiento en cm para la semana 3: 12\n",
            "Ingrese el crecimiento en cm para la semana 4: 21\n",
            "Ingrese el crecimiento en cm para la semana 5: 23\n",
            "Ingrese el crecimiento en cm para la semana 6: 33\n",
            "La altura total de la planta después de 5 semanas es de 100.0 cm.\n",
            "La altura total de la planta es: 100.0\n"
          ]
        }
      ]
    },
    {
      "cell_type": "code",
      "metadata": {
        "colab": {
          "base_uri": "https://localhost:8080/"
        },
        "id": "3d10dfc4",
        "outputId": "009c4b3d-8e2d-49d7-f225-bdaf58613b1c"
      },
      "source": [
        "# Inicializar una variable para la altura total de la planta en cero.\n",
        "altura = 0\n",
        "# Inicializar una lista para almacenar los crecimientos semanales.\n",
        "crecimientos_semanales = []\n",
        "\n",
        "# Mostrar un mensaje que indique que se simulará el crecimiento durante 5 semanas.\n",
        "print(\"Simulación de crecimiento durante 5 semanas\")\n",
        "\n",
        "# Crear un bucle 'for' que se repita 5 veces (una por cada semana).\n",
        "for semana in range(1, 6):\n",
        "  # Dentro del bucle, pedir al usuario la tasa de crecimiento de la semana actual.\n",
        "  tasa_crecimiento = float(input(f\"Ingrese la tasa de crecimiento para la semana {semana}: \"))\n",
        "\n",
        "  # Agregar la tasa de crecimiento a la lista de crecimientos semanales.\n",
        "  crecimientos_semanales.append(tasa_crecimiento)\n",
        "\n",
        "  # Sumar la tasa de crecimiento a la altura total.\n",
        "  altura += tasa_crecimiento\n",
        "\n",
        "# Al final del bucle, mostrar la altura total de la planta.\n",
        "print(f\"La altura total de la planta después de 5 semanas es: {altura} cm.\")\n",
        "# Opcional: mostrar los crecimientos semanales almacenados\n",
        "# print(f\"Crecimientos semanales: {crecimientos_semanales}\")\n"
      ],
      "execution_count": 6,
      "outputs": [
        {
          "output_type": "stream",
          "name": "stdout",
          "text": [
            "Simulación de crecimiento durante 5 semanas\n",
            "Ingrese la tasa de crecimiento para la semana 1: 12\n",
            "Ingrese la tasa de crecimiento para la semana 2: 12\n",
            "Ingrese la tasa de crecimiento para la semana 3: 21\n",
            "Ingrese la tasa de crecimiento para la semana 4: 23\n",
            "Ingrese la tasa de crecimiento para la semana 5: 33\n",
            "La altura total de la planta después de 5 semanas es: 101.0 cm.\n"
          ]
        }
      ]
    },
    {
      "cell_type": "markdown",
      "source": [
        "# Situación 1: Control de Calidad de un Lote de Leche\n",
        "Una planta procesadora debe verificar si un\n",
        "lote de leche cumple con el estándar de acidez (medido en °Dornic). Si la acidez está entre 15 y 18 °D, el lote es aceptado. Si es mayor, se destina a queso; si es menor, se rechaza.\n",
        "1. # Describir el propósito: Programa de control de calidad de leche por acidez.\n",
        "2. # Pedir al operario que ingrese el valor de acidez en grados Dornic.\n",
        "3. # Guardar el valor en una variable.\n",
        "4. # Escribir una condición 'if' que verifique si la acidez es mayor a 18.\n",
        "5. # Si se cumple, imprimir \"Lote destinado para producción de queso\".\n",
        "6. # Usar 'elif' para verificar si la acidez es menor a 15.\n",
        "7. # Si se cumple, imprimir \"Lote RECHAZADO por baja acidez\".\n",
        "8. # Usar 'else' para capturar el caso en que la acidez está en el rango aceptable.\n",
        "9. # Si no se cumplen las condiciones anteriores, imprimir \"Lote ACEPTADO para pasteurización\".\n",
        "\n"
      ],
      "metadata": {
        "id": "S0mehQsW6OOD"
      }
    },
    {
      "cell_type": "markdown",
      "source": [],
      "metadata": {
        "id": "3qYkM5eI61gP"
      }
    },
    {
      "cell_type": "code",
      "source": [],
      "metadata": {
        "id": "qQT5lK0u6Vox"
      },
      "execution_count": null,
      "outputs": []
    },
    {
      "cell_type": "code",
      "metadata": {
        "colab": {
          "base_uri": "https://localhost:8080/"
        },
        "id": "cd974b4e",
        "outputId": "87fefecc-f237-4b53-fe23-3aebf7afbbc1"
      },
      "source": [
        "# Describir el propósito: Programa de control de calidad de leche por acidez.\n",
        "print(\"Programa de control de calidad de leche por acidez.\")\n",
        "\n",
        "# Pedir al operario que ingrese el valor de acidez en grados Dornic.\n",
        "acidez = float(input(\"Por favor, ingrese el valor de acidez en grados Dornic: \"))\n",
        "\n",
        "# Escribir una condición 'if' que verifique si la acidez es mayor a 18.\n",
        "if acidez > 18:\n",
        "  # Si se cumple, imprimir \"Lote destinado para producción de queso\".\n",
        "  print(\"Lote destinado para producción de queso\")\n",
        "# Usar 'elif' para verificar si la acidez es menor a 15.\n",
        "elif acidez < 15:\n",
        "  # Si se cumple, imprimir \"Lote RECHAZADO por baja acidez\".\n",
        "  print(\"Lote RECHAZADO por baja acidez\")\n",
        "# Usar 'else' para capturar el caso en que la acidez está en el rango aceptable.\n",
        "else:\n",
        "  # Si no se cumplen las condiciones anteriores, imprimir \"Lote ACEPTADO para pasteurización\".\n",
        "  print(\"Lote ACEPTADO para pasteurización\")"
      ],
      "execution_count": 9,
      "outputs": [
        {
          "output_type": "stream",
          "name": "stdout",
          "text": [
            "Programa de control de calidad de leche por acidez.\n",
            "Por favor, ingrese el valor de acidez en grados Dornic: 14\n",
            "Lote RECHAZADO por baja acidez\n"
          ]
        }
      ]
    },
    {
      "cell_type": "code",
      "source": [],
      "metadata": {
        "id": "FvQjneST7phn"
      },
      "execution_count": 6,
      "outputs": []
    }
  ]
}