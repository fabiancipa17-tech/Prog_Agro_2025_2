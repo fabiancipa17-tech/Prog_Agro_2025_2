{
  "nbformat": 4,
  "nbformat_minor": 0,
  "metadata": {
    "colab": {
      "provenance": [],
      "authorship_tag": "ABX9TyM4CkM3LZbx/JmC6hHrk9qk",
      "include_colab_link": true
    },
    "kernelspec": {
      "name": "python3",
      "display_name": "Python 3"
    },
    "language_info": {
      "name": "python"
    }
  },
  "cells": [
    {
      "cell_type": "markdown",
      "metadata": {
        "id": "view-in-github",
        "colab_type": "text"
      },
      "source": [
        "<a href=\"https://colab.research.google.com/github/fabiancipa17-tech/Prog_Agro_2025_2/blob/main/Semana_2_y_3.ipynb\" target=\"_parent\"><img src=\"https://colab.research.google.com/assets/colab-badge.svg\" alt=\"Open In Colab\"/></a>"
      ]
    },
    {
      "cell_type": "code",
      "execution_count": null,
      "metadata": {
        "id": "Lf67vV9_sBJQ"
      },
      "outputs": [],
      "source": []
    },
    {
      "cell_type": "markdown",
      "source": [
        "# Situación 1: Clasificador de pH del Suelo\n",
        "El pH del suelo es un factor crítico para la absorción de nutrientes por parte de las plantas. Desarrollarás un programa que recibe un valor de pH e informa al agricultor si el suelo es ácido, neutro o alcalino, ofreciendo una recomendación general."
      ],
      "metadata": {
        "id": "IMMzylevsmJj"
      }
    },
    {
      "cell_type": "code",
      "source": [
        " # Explicar al usuario que el programa clasifica el pH del suelo.\n",
        " print(\"Este programa clasifica el pH del suelo.\")\n",
        "\n",
        " # Pedir al usuario que ingrese el valor de pH medido (puede ser decimal).\n",
        " pH = float(input(\"Por favor, ingrese el valor de pH medido: \"))\n",
        "\n",
        " # Utilizar una estructura 'if' para la primera condición: si el pH es menor que 6.5.\n",
        " if pH < 7:\n",
        "    print(\"El suelo es ácido.\")\n",
        "    # Dentro del 'if', mostrar un mensaje indicando que el suelo es \"Ácido\" y recomendar el uso de cal agrícola.\n",
        "    print(\"Es recomendable usar cal relayed.\")\n",
        "elif pH == 7:\n",
        "    print(\"El suelo es neutro.\")\n",
        "elif pH > 7:\n",
        "    print(\"El suelo es alcalino.\")\n",
        "    print(\"Recomendamos el uso de sulfato\")\n",
        "\n",
        "\n",
        "\n",
        "\n"
      ],
      "metadata": {
        "colab": {
          "base_uri": "https://localhost:8080/"
        },
        "id": "pVeaSjYYswSY",
        "outputId": "31de2f05-4b93-4d1e-8670-068bb47fdb42"
      },
      "execution_count": 3,
      "outputs": [
        {
          "output_type": "stream",
          "name": "stdout",
          "text": [
            "Este programa clasifica el pH del suelo.\n",
            "Por favor, ingrese el valor de pH medido: 8\n",
            "El suelo es alcalino.\n",
            "Recomendamos el uso de sulfato\n"
          ]
        }
      ]
    },
    {
      "cell_type": "markdown",
      "metadata": {
        "id": "aaaee51f"
      },
      "source": [
        "El código clasifica el pH del suelo y ofrece recomendaciones:\n",
        "\n",
        "*   `print(\"Este programa clasifica el pH del suelo.\")`: Imprime un mensaje introductorio explicando el propósito del programa.\n",
        "*   `pH = float(input(\"Por favor, ingrese el valor de pH medido: \"))`: Solicita al usuario que ingrese el valor de pH y lo almacena como un número decimal en la variable `pH`.\n",
        "*   `if pH < 7:`: Comienza una estructura condicional. Si el valor de `pH` es menor que 7, se ejecuta el bloque de código dentro de este `if`.\n",
        "*   `print(\"El suelo es ácido.\")`: Si el pH es menor que 7, imprime que el suelo es ácido.\n",
        "*   `print(\"Es recomendable usar cal relayed.\")`: Dentro del bloque `if`, recomienda el uso de cal agrícola para suelo ácido.\n",
        "*   `elif pH == 7:`: Si la condición anterior (`pH < 7`) no se cumple, verifica si el valor de `pH` es exactamente igual a 7.\n",
        "*   `print(\"El suelo es neutro.\")`: Si el pH es igual a 7, imprime que el suelo es neutro.\n",
        "*   `elif pH > 7:`: Si las condiciones anteriores (`pH < 7` y `pH == 7`) no se cumplen, verifica si el valor de `pH` es mayor que 7.\n",
        "*   `print(\"El suelo es alcalino.\")`: Si el pH es mayor que 7, imprime que el suelo es alcalino.\n",
        "*   `print(\"Recomendamos el uso de sulfato\")`: Dentro del bloque `elif` (para pH > 7), recomienda el uso de sulfato para suelo alcalino."
      ]
    }
  ]
}