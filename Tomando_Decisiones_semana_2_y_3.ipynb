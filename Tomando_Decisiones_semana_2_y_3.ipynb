{
  "nbformat": 4,
  "nbformat_minor": 0,
  "metadata": {
    "colab": {
      "provenance": [],
      "authorship_tag": "ABX9TyMpZwGuhasnNKPxKr2e8GKh",
      "include_colab_link": true
    },
    "kernelspec": {
      "name": "python3",
      "display_name": "Python 3"
    },
    "language_info": {
      "name": "python"
    }
  },
  "cells": [
    {
      "cell_type": "markdown",
      "metadata": {
        "id": "view-in-github",
        "colab_type": "text"
      },
      "source": [
        "<a href=\"https://colab.research.google.com/github/fabiancipa17-tech/Prog_Agro_2025_2/blob/main/Tomando_Decisiones_semana_2_y_3.ipynb\" target=\"_parent\"><img src=\"https://colab.research.google.com/assets/colab-badge.svg\" alt=\"Open In Colab\"/></a>"
      ]
    },
    {
      "cell_type": "markdown",
      "source": [],
      "metadata": {
        "id": "SRi1EiPjxImm"
      }
    },
    {
      "cell_type": "markdown",
      "source": [
        "#  Situación de Interés en Ingeniería Agrícola fi:\n",
        "\n",
        "1. Se está diseñando el software para un sistema de riego “inteligente”.\n",
        "2. El programa debe leer el nivel de humedad actual del suelo (un valor de 0 a 100) y decidir qué acción tomar:\n",
        "> no hacer nada,\n",
        "> aplicar un riego ligero o\n",
        "> aplicar un riego profundo, según 5umbrales predefinidos."
      ],
      "metadata": {
        "id": "soH-xNKXxKXJ"
      }
    },
    {
      "cell_type": "code",
      "execution_count": 3,
      "metadata": {
        "colab": {
          "base_uri": "https://localhost:8080/"
        },
        "id": "NmSB9DdNvrLw",
        "outputId": "12cb59e0-fa45-4616-b4e2-cedfa20056b3"
      },
      "outputs": [
        {
          "output_type": "stream",
          "name": "stdout",
          "text": [
            "Ingrese el nivel de humedad actual (en %): 100\n",
            "El suelo está saturado. ES necesario aplicar drenaje.\n"
          ]
        }
      ],
      "source": [
        "# Caso de Ingeniería Agrícola: Lógica de Riego Inteligente (if/elif/else)\n",
        "# Definir los umbrales de humedad\n",
        "# (ej. por debajo de 30% es seco, entre 30% y 70% es óptimo, por encima de 70% es saturado).\n",
        "\n",
        "# Pedir al usuario el nivel de humedad actual.\n",
        "humedad_actual = float(input(\"Ingrese el nivel de humedad actual (en %): \"))\n",
        "if humedad_actual < 30:\n",
        "    print(\"El suelo está seco. ES necesario aplicar riego.\")\n",
        "elif 30 <= humedad_actual <= 70:\n",
        "    print(\"El suelo está óptimo. No es necesario aplicar riego.\")\n",
        "else:\n",
        "    print(\"El suelo está saturado. ES necesario aplicar drenaje.\")\n",
        "\n",
        "\n"
      ]
    },
    {
      "cell_type": "code",
      "source": [],
      "metadata": {
        "id": "1rk0hbb0ycUy"
      },
      "execution_count": null,
      "outputs": []
    }
  ]
}