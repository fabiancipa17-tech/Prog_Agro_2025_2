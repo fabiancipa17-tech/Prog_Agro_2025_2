{
  "nbformat": 4,
  "nbformat_minor": 0,
  "metadata": {
    "colab": {
      "provenance": [],
      "authorship_tag": "ABX9TyMuD2PXkDeDjcy6YwBN+7bP",
      "include_colab_link": true
    },
    "kernelspec": {
      "name": "python3",
      "display_name": "Python 3"
    },
    "language_info": {
      "name": "python"
    }
  },
  "cells": [
    {
      "cell_type": "markdown",
      "metadata": {
        "id": "view-in-github",
        "colab_type": "text"
      },
      "source": [
        "<a href=\"https://colab.research.google.com/github/fabiancipa17-tech/Prog_Agro_2025_2/blob/main/Tomando_Decisiones_semana_2_y_3.ipynb\" target=\"_parent\"><img src=\"https://colab.research.google.com/assets/colab-badge.svg\" alt=\"Open In Colab\"/></a>"
      ]
    },
    {
      "cell_type": "markdown",
      "source": [],
      "metadata": {
        "id": "SRi1EiPjxImm"
      }
    },
    {
      "cell_type": "markdown",
      "source": [
        "#  Situación de Interés en Ingeniería Agrícola fi:\n",
        "\n",
        "1. Se está diseñando el software para un sistema de riego “inteligente”.\n",
        "2. El programa debe leer el nivel de humedad actual del suelo (un valor de 0 a 100) y decidir qué acción tomar:\n",
        "> no hacer nada,\n",
        "> aplicar un riego ligero o\n",
        "> aplicar un riego profundo, según 5umbrales predefinidos."
      ],
      "metadata": {
        "id": "soH-xNKXxKXJ"
      }
    },
    {
      "cell_type": "code",
      "execution_count": 3,
      "metadata": {
        "colab": {
          "base_uri": "https://localhost:8080/"
        },
        "id": "NmSB9DdNvrLw",
        "outputId": "12cb59e0-fa45-4616-b4e2-cedfa20056b3"
      },
      "outputs": [
        {
          "output_type": "stream",
          "name": "stdout",
          "text": [
            "Ingrese el nivel de humedad actual (en %): 100\n",
            "El suelo está saturado. ES necesario aplicar drenaje.\n"
          ]
        }
      ],
      "source": [
        "# Caso de Ingeniería Agrícola: Lógica de Riego Inteligente (if/elif/else)\n",
        "# Definir los umbrales de humedad\n",
        "# (ej. por debajo de 30% es seco, entre 30% y 70% es óptimo, por encima de 70% es saturado).\n",
        "\n",
        "# Pedir al usuario el nivel de humedad actual.\n",
        "humedad_actual = float(input(\"Ingrese el nivel de humedad actual (en %): \"))\n",
        "if humedad_actual < 30:\n",
        "    print(\"El suelo está seco. ES necesario aplicar riego.\")\n",
        "elif 30 <= humedad_actual <= 70:\n",
        "    print(\"El suelo está óptimo. No es necesario aplicar riego.\")\n",
        "else:\n",
        "    print(\"El suelo está saturado. ES necesario aplicar drenaje.\")\n",
        "\n",
        "\n"
      ]
    },
    {
      "cell_type": "code",
      "source": [],
      "metadata": {
        "id": "1rk0hbb0ycUy"
      },
      "execution_count": null,
      "outputs": []
    },
    {
      "cell_type": "markdown",
      "source": [
        " # Situación de Interés en **Ingeniería Agroindustrial**\n",
        "\n",
        "1. En una línea de empaque de frutas, un sensor mide el peso de cada fruta.\n",
        "2. Se necesita un programa que analice una lista de pesos de un lote y cuente:\n",
        "> cuántas frutas cumplen con el estándar de “Exportación” (ej. > 250g),\n",
        ">cuántas son de “Mercado Nacional” (entre 150g y 250g) y\n",
        ">cuántas se consideran “Rechazo” (< 150g).\n"
      ],
      "metadata": {
        "id": "byccj_Kj47GB"
      }
    },
    {
      "cell_type": "code",
      "source": [
        "#  Clasificación de Lote (for loop)\n",
        "# Definir una lista con los pesos de las frutas del lote (para simular los datos del sensor).\n",
        "pesos = [100, 95, 150, 250, 200, 300, 280, 30, 300, 123, 111, 213, 400, 350, 456]\n",
        "\n",
        "# Inicializar tres contadores en cero: exportacion, nacional y rechazo.\n",
        "exportacion = 0\n",
        "nacional = 0\n",
        "rechazo = 0\n",
        "\n",
        "#Recorrer la lista de pesos y clasificar cada fruta.\n",
        "for peso in pesos:\n",
        "    if peso > 250:\n",
        "        exportacion += 1\n",
        "    elif 150 <= peso <= 250:\n",
        "        nacional += 1\n",
        "    else:\n",
        "        rechazo += 1\n",
        "\n",
        "#  Después de que el bucle termine, imprimir los totales de cada categoría.\n",
        "print(\"Frutas de Exportación:\", exportacion)\n",
        "print(\"Frutas de Mercado Nacional:\", nacional)\n",
        "print(\"Frutas Rechazadas:\", rechazo)"
      ],
      "metadata": {
        "colab": {
          "base_uri": "https://localhost:8080/"
        },
        "id": "1Q3ccRbI6c8v",
        "outputId": "59c7987f-0748-486b-c0db-810264ce5be5"
      },
      "execution_count": 5,
      "outputs": [
        {
          "output_type": "stream",
          "name": "stdout",
          "text": [
            "Frutas de Exportación: 6\n",
            "Frutas de Mercado Nacional: 4\n",
            "Frutas Rechazadas: 5\n"
          ]
        }
      ]
    }
  ]
}