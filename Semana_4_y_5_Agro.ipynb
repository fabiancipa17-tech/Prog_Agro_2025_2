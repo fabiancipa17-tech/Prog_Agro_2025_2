{
  "nbformat": 4,
  "nbformat_minor": 0,
  "metadata": {
    "colab": {
      "provenance": [],
      "authorship_tag": "ABX9TyOwJhUg3E15Xvggf11ZClZy",
      "include_colab_link": true
    },
    "kernelspec": {
      "name": "python3",
      "display_name": "Python 3"
    },
    "language_info": {
      "name": "python"
    }
  },
  "cells": [
    {
      "cell_type": "markdown",
      "metadata": {
        "id": "view-in-github",
        "colab_type": "text"
      },
      "source": [
        "<a href=\"https://colab.research.google.com/github/fabiancipa17-tech/Prog_Agro_2025_2/blob/main/Semana_4_y_5_Agro.ipynb\" target=\"_parent\"><img src=\"https://colab.research.google.com/assets/colab-badge.svg\" alt=\"Open In Colab\"/></a>"
      ]
    },
    {
      "cell_type": "code",
      "execution_count": null,
      "metadata": {
        "id": "CMIGJjC7yLWr"
      },
      "outputs": [],
      "source": []
    },
    {
      "cell_type": "markdown",
      "metadata": {
        "id": "1a5d166c"
      },
      "source": [
        "## Listas, Tuplas y Diccionarios en Python\n",
        "\n",
        "Estos son tres tipos de colecciones de datos fundamentales en Python, cada uno con sus propias características y usos:\n",
        "\n",
        "### Listas\n",
        "\n",
        "*   **Definición:** Son colecciones ordenadas y mutables (modificables) de elementos.\n",
        "*   **Características:**\n",
        "    *   Se definen con corchetes `[]`.\n",
        "    *   Pueden contener elementos de diferentes tipos de datos.\n",
        "    *   Los elementos se acceden por índice (comenzando desde 0).\n",
        "    *   Permiten añadir, eliminar o modificar elementos después de su creación.\n",
        "*   **Ejemplo:** `mi_lista = [1, \"hola\", True, 3.14]`\n",
        "\n",
        "### Tuplas\n",
        "\n",
        "*   **Definición:** Son colecciones ordenadas e inmutables (no modificables) de elementos.\n",
        "*   **Características:**\n",
        "    *   Se definen con paréntesis `()`.\n",
        "    *   Pueden contener elementos de diferentes tipos de datos.\n",
        "    *   Los elementos se acceden por índice (comenzando desde 0).\n",
        "    *   Una vez creadas, no se pueden añadir, eliminar o modificar elementos.\n",
        "*   **Ejemplo:** `mi_tupla = (1, \"hola\", True, 3.14)`\n",
        "\n",
        "### Diccionarios\n",
        "\n",
        "*   **Definición:** Son colecciones desordenadas de pares clave-valor.\n",
        "*   **Características:**\n",
        "    *   Se definen con llaves `{}`.\n",
        "    *   Cada elemento es un par clave-valor, donde la clave es única e inmutable (generalmente cadenas, números o tuplas) y el valor puede ser cualquier tipo de dato.\n",
        "    *   Los elementos se acceden a través de sus claves, no por índice.\n",
        "    *   Son mutables, permitiendo añadir, eliminar o modificar pares clave-valor.\n",
        "*   **Ejemplo:** `mi_diccionario = {\"nombre\": \"Ana\", \"edad\": 30, \"ciudad\": \"Madrid\"}`\n",
        "\n",
        "### Similitudes\n",
        "\n",
        "*   Los tres tipos de colecciones pueden almacenar elementos de diferentes tipos de datos.\n",
        "*   Los tres son iterables, lo que significa que se puede recorrer sus elementos.\n",
        "\n",
        "### Diferencias\n",
        "\n",
        "*   **Mutabilidad:** Las listas y diccionarios son mutables (se pueden modificar), mientras que las tuplas son inmutables (no se pueden modificar una vez creadas).\n",
        "*   **Orden:** Las listas y tuplas son colecciones ordenadas (los elementos mantienen el orden en que fueron añadidos), mientras que los diccionarios son colecciones desordenadas (el orden de los elementos no está garantizado, aunque en versiones recientes de Python tienden a preservar el orden de inserción).\n",
        "*   **Acceso a elementos:** Las listas y tuplas se acceden por índice numérico, mientras que los diccionarios se acceden por clave.\n",
        "*   **Uso:** Las listas se usan generalmente para colecciones de elementos donde el orden y la mutabilidad son importantes. Las tuplas se usan para colecciones de elementos donde el orden es importante pero no se desea que sean modificadas (por ejemplo, para representar coordenadas o registros). Los diccionarios se usan para almacenar datos donde cada elemento tiene una clave asociada, permitiendo un acceso rápido a los valores a través de sus claves."
      ]
    },
    {
      "cell_type": "markdown",
      "metadata": {
        "id": "db1326b4"
      },
      "source": [
        "## Funciones en Python\n",
        "\n",
        "### ¿Qué son las funciones?\n",
        "\n",
        "En Python, una función es un bloque de código reutilizable que realiza una tarea específica. Las funciones te permiten organizar tu código, hacerlo más legible y evitar la repetición.\n",
        "\n",
        "### Uso de las funciones\n",
        "\n",
        "Las funciones se definen utilizando la palabra clave `def`, seguida del nombre de la función, paréntesis `()` que pueden contener parámetros, y dos puntos `:`. El bloque de código de la función se encuentra indentado debajo de la definición."
      ]
    },
    {
      "cell_type": "code",
      "metadata": {
        "id": "04149ee9"
      },
      "source": [
        "suma = mi_funcion(5, 3)\n",
        "print(suma) # Salida: 8"
      ],
      "execution_count": null,
      "outputs": []
    }
  ]
}