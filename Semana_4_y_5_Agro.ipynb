{
  "nbformat": 4,
  "nbformat_minor": 0,
  "metadata": {
    "colab": {
      "provenance": [],
      "authorship_tag": "ABX9TyM5xhKon3em/XXqqkh0ScmG",
      "include_colab_link": true
    },
    "kernelspec": {
      "name": "python3",
      "display_name": "Python 3"
    },
    "language_info": {
      "name": "python"
    }
  },
  "cells": [
    {
      "cell_type": "markdown",
      "metadata": {
        "id": "view-in-github",
        "colab_type": "text"
      },
      "source": [
        "<a href=\"https://colab.research.google.com/github/fabiancipa17-tech/Prog_Agro_2025_2/blob/main/Semana_4_y_5_Agro.ipynb\" target=\"_parent\"><img src=\"https://colab.research.google.com/assets/colab-badge.svg\" alt=\"Open In Colab\"/></a>"
      ]
    },
    {
      "cell_type": "code",
      "execution_count": null,
      "metadata": {
        "id": "CMIGJjC7yLWr"
      },
      "outputs": [],
      "source": []
    },
    {
      "cell_type": "markdown",
      "metadata": {
        "id": "1a5d166c"
      },
      "source": [
        "## Listas, Tuplas y Diccionarios en Python\n",
        "\n",
        "Estos son tres tipos de colecciones de datos fundamentales en Python, cada uno con sus propias características y usos:\n",
        "\n",
        "### Listas\n",
        "\n",
        "*   **Definición:** Son colecciones ordenadas y mutables (modificables) de elementos.\n",
        "*   **Características:**\n",
        "    *   Se definen con corchetes `[]`.\n",
        "    *   Pueden contener elementos de diferentes tipos de datos.\n",
        "    *   Los elementos se acceden por índice (comenzando desde 0).\n",
        "    *   Permiten añadir, eliminar o modificar elementos después de su creación.\n",
        "*   **Ejemplo:** `mi_lista = [1, \"hola\", True, 3.14]`\n",
        "\n",
        "### Tuplas\n",
        "\n",
        "*   **Definición:** Son colecciones ordenadas e inmutables (no modificables) de elementos.\n",
        "*   **Características:**\n",
        "    *   Se definen con paréntesis `()`.\n",
        "    *   Pueden contener elementos de diferentes tipos de datos.\n",
        "    *   Los elementos se acceden por índice (comenzando desde 0).\n",
        "    *   Una vez creadas, no se pueden añadir, eliminar o modificar elementos.\n",
        "*   **Ejemplo:** `mi_tupla = (1, \"hola\", True, 3.14)`\n",
        "\n",
        "### Diccionarios\n",
        "\n",
        "*   **Definición:** Son colecciones desordenadas de pares clave-valor.\n",
        "*   **Características:**\n",
        "    *   Se definen con llaves `{}`.\n",
        "    *   Cada elemento es un par clave-valor, donde la clave es única e inmutable (generalmente cadenas, números o tuplas) y el valor puede ser cualquier tipo de dato.\n",
        "    *   Los elementos se acceden a través de sus claves, no por índice.\n",
        "    *   Son mutables, permitiendo añadir, eliminar o modificar pares clave-valor.\n",
        "*   **Ejemplo:** `mi_diccionario = {\"nombre\": \"Ana\", \"edad\": 30, \"ciudad\": \"Madrid\"}`\n",
        "\n",
        "### Similitudes\n",
        "\n",
        "*   Los tres tipos de colecciones pueden almacenar elementos de diferentes tipos de datos.\n",
        "*   Los tres son iterables, lo que significa que se puede recorrer sus elementos.\n",
        "\n",
        "### Diferencias\n",
        "\n",
        "*   **Mutabilidad:** Las listas y diccionarios son mutables (se pueden modificar), mientras que las tuplas son inmutables (no se pueden modificar una vez creadas).\n",
        "*   **Orden:** Las listas y tuplas son colecciones ordenadas (los elementos mantienen el orden en que fueron añadidos), mientras que los diccionarios son colecciones desordenadas (el orden de los elementos no está garantizado, aunque en versiones recientes de Python tienden a preservar el orden de inserción).\n",
        "*   **Acceso a elementos:** Las listas y tuplas se acceden por índice numérico, mientras que los diccionarios se acceden por clave.\n",
        "*   **Uso:** Las listas se usan generalmente para colecciones de elementos donde el orden y la mutabilidad son importantes. Las tuplas se usan para colecciones de elementos donde el orden es importante pero no se desea que sean modificadas (por ejemplo, para representar coordenadas o registros). Los diccionarios se usan para almacenar datos donde cada elemento tiene una clave asociada, permitiendo un acceso rápido a los valores a través de sus claves."
      ]
    },
    {
      "cell_type": "markdown",
      "metadata": {
        "id": "db1326b4"
      },
      "source": [
        "## Funciones en Python\n",
        "\n",
        "### ¿Qué son las funciones?\n",
        "\n",
        "En Python, una función es un bloque de código reutilizable que realiza una tarea específica. Las funciones te permiten organizar tu código, hacerlo más legible y evitar la repetición.\n",
        "\n",
        "### Uso de las funciones\n",
        "\n",
        "Las funciones se definen utilizando la palabra clave `def`, seguida del nombre de la función, paréntesis `()` que pueden contener parámetros, y dos puntos `:`. El bloque de código de la función se encuentra indentado debajo de la definición."
      ]
    },
    {
      "cell_type": "code",
      "metadata": {
        "id": "04149ee9"
      },
      "source": [
        "suma = mi_funcion(5, 3)\n",
        "print(suma) # Salida: 8"
      ],
      "execution_count": null,
      "outputs": []
    },
    {
      "cell_type": "markdown",
      "source": [
        "# Situación de Interés en Ingeniería Agrícola fi: Un agrónomo consultor necesita una herramienta\n",
        "rápida para aconsejar a los agricultores sobre qué cultivos sembrar. Se requiere un programa que almacene información de varios cultivos (nombre, mes ideal de siembra, necesidad de agua) y que, al ingresar el nombre de un mes, recomiende qué cultivos son adecuados para sembrar en ese período.\n",
        "\n",
        "Caso de Ingeniería Agrícola: Planificador de Cultivos (Listas y Funciones)\n",
        "• Paso a Paso del Código:\n",
        "1. Crear una lista donde cada elemento sea un diccionario. Cada diccionario representará un\n",
        "cultivo y tendrá claves como nombre, mes_siembra y riego.\n",
        "2. Crear una función llamada recomendar_cultivos. Esta función recibirá dos parámetros: la\n",
        "lista completa de cultivos y el mes actual.\n",
        "3. Dentro de la función, usar un bucle for para recorrer la lista de cultivos.\n",
        "4. En cada iteración, usar un if para comprobar si el mes_siembra del cultivo coincide con el mes\n",
        "proporcionado.\n",
        "5. Si coinciden, añadir el nombre del cultivo a una nueva lista de recomendados.\n",
        "6. Al final, la función debe devolver la lista de cultivos recomendados.\n",
        "7. En el programa principal, pedir al usuario el mes y llamar a la función para obtener e imprimir\n",
        "las recomendaciones."
      ],
      "metadata": {
        "id": "G3A9h89B3n5Q"
      }
    },
    {
      "cell_type": "code",
      "metadata": {
        "id": "ffa7a3c1"
      },
      "source": [
        "# 1. Crear una lista donde cada elemento sea un diccionario. Cada diccionario representará un\n",
        "# cultivo y tendrá claves como nombre, mes_siembra y riego.\n",
        "cultivos = [\n",
        "    {\"nombre\": \"Maíz\", \"mes_siembra\": \"Mayo\", \"riego\": \"Alto\"},\n",
        "    {\"nombre\": \"Trigo\", \"mes_siembra\": \"Octubre\", \"riego\": \"Medio\"},\n",
        "    {\"nombre\": \"Soja\", \"mes_siembra\": \"Noviembre\", \"riego\": \"Medio\"},\n",
        "    {\"nombre\": \"Girasol\", \"mes_siembra\": \"Septiembre\", \"riego\": \"Bajo\"},\n",
        "    {\"nombre\": \"Arroz\", \"mes_siembra\": \"Abril\", \"riego\": \"Muy alto\"}\n",
        "]"
      ],
      "execution_count": 1,
      "outputs": []
    },
    {
      "cell_type": "code",
      "metadata": {
        "id": "f1941fc4"
      },
      "source": [
        "# 2. Crear una función llamada recomendar_cultivos. Esta función recibirá dos parámetros: la\n",
        "# lista completa de cultivos y el mes actual.\n",
        "def recomendar_cultivos(lista_cultivos, mes_actual):\n",
        "    # 5. Si coinciden, añadir el nombre del cultivo a una nueva lista de recomendados.\n",
        "    cultivos_recomendados = []\n",
        "    # 3. Dentro de la función, usar un bucle for para recorrer la lista de cultivos.\n",
        "    for cultivo in lista_cultivos:\n",
        "        # 4. En cada iteración, usar un if para comprobar si el mes_siembra del cultivo coincide con el mes\n",
        "        # proporcionado.\n",
        "        if cultivo[\"mes_siembra\"].lower() == mes_actual.lower():\n",
        "            cultivos_recomendados.append(cultivo[\"nombre\"])\n",
        "    # 6. Al final, la función debe devolver la lista de cultivos recomendados.\n",
        "    return cultivos_recomendados"
      ],
      "execution_count": 2,
      "outputs": []
    },
    {
      "cell_type": "code",
      "metadata": {
        "colab": {
          "base_uri": "https://localhost:8080/"
        },
        "id": "259ba348",
        "outputId": "7a979782-c487-4181-f9d9-4dfb1023bd29"
      },
      "source": [
        "# 7. En el programa principal, pedir al usuario el mes y llamar a la función para obtener e imprimir\n",
        "# las recomendaciones.\n",
        "mes_ingresado = input(\"Ingrese el mes actual para recibir recomendaciones de cultivos: \")\n",
        "\n",
        "recomendaciones = recomendar_cultivos(cultivos, mes_ingresado)\n",
        "\n",
        "if recomendaciones:\n",
        "    print(f\"Para el mes de {mes_ingresado}, se recomienda sembrar:\")\n",
        "    for cultivo_recomendado in recomendaciones:\n",
        "        print(f\"- {cultivo_recomendado}\")\n",
        "else:\n",
        "    print(f\"No hay recomendaciones de cultivos para el mes de {mes_ingresado}.\")"
      ],
      "execution_count": 3,
      "outputs": [
        {
          "output_type": "stream",
          "name": "stdout",
          "text": [
            "Ingrese el mes actual para recibir recomendaciones de cultivos: noviembre\n",
            "Para el mes de noviembre, se recomienda sembrar:\n",
            "- Soja\n"
          ]
        }
      ]
    },
    {
      "cell_type": "code",
      "source": [],
      "metadata": {
        "id": "P7Yj9Hrh4uFk"
      },
      "execution_count": null,
      "outputs": []
    },
    {
      "cell_type": "markdown",
      "metadata": {
        "id": "8001cb8e"
      },
      "source": [
        "```\n",
        "# 1. Crear una lista donde cada elemento sea un diccionario. Cada diccionario representará un\n",
        "# cultivo y tendrá claves como nombre, mes_siembra y riego.\n",
        "cultivos = [\n",
        "    {\"nombre\": \"Maíz\", \"mes_siembra\": \"Mayo\", \"riego\": \"Alto\"},\n",
        "    {\"nombre\": \"Trigo\", \"mes_siembra\": \"Octubre\", \"riego\": \"Medio\"},\n",
        "    {\"nombre\": \"Soja\", \"mes_siembra\": \"Noviembre\", \"riego\": \"Medio\"},\n",
        "    {\"nombre\": \"Girasol\", \"mes_siembra\": \"Septiembre\", \"riego\": \"Bajo\"},\n",
        "    {\"nombre\": \"Arroz\", \"mes_siembra\": \"Abril\", \"riego\": \"Muy alto\"}\n",
        "]\n",
        "\n",
        "# 2. Crear una función llamada recomendar_cultivos. Esta función recibirá dos parámetros: la\n",
        "# lista completa de cultivos y el mes actual.\n",
        "def recomendar_cultivos(lista_cultivos, mes_actual):\n",
        "    # 5. Si coinciden, añadir el nombre del cultivo a una nueva lista de recomendados.\n",
        "    cultivos_recomendados = []\n",
        "    # 3. Dentro de la función, usar un bucle for para recorrer la lista de cultivos.\n",
        "    for cultivo in lista_cultivos:\n",
        "        # 4. En cada iteración, usar un if para comprobar si el mes_siembra del cultivo coincide con el mes\n",
        "        # proporcionado.\n",
        "        if cultivo[\"mes_siembra\"].lower() == mes_actual.lower():\n",
        "            cultivos_recomendados.append(cultivo[\"nombre\"])\n",
        "    # 6. Al final, la función debe devolver la lista de cultivos recomendados.\n",
        "    return cultivos_recomendados\n",
        "\n",
        "# 7. En el programa principal, pedir al usuario el mes y llamar a la función para obtener e imprimir\n",
        "# las recomendaciones.\n",
        "mes_ingresado = input(\"Ingrese el mes actual para recibir recomendaciones de cultivos: \")\n",
        "\n",
        "recomendaciones = recomendar_cultivos(cultivos, mes_ingresado)\n",
        "\n",
        "if recomendaciones:\n",
        "    print(f\"Para el mes de {mes_ingresado}, se recomienda sembrar:\")\n",
        "    for cultivo_recomendado in recomendaciones:\n",
        "        print(f\"- {cultivo_recomendado}\")\n",
        "else:\n",
        "    print(f\"No hay recomendaciones de cultivos para el mes de {mes_ingresado}.\")\n",
        "```"
      ]
    },
    {
      "cell_type": "markdown",
      "metadata": {
        "id": "0a1b18a9"
      },
      "source": [
        "Este código Python implementa un sencillo planificador de cultivos basado en el mes de siembra.\n",
        "\n",
        "1.  **Lista `cultivos`**: Se crea una lista llamada `cultivos`. Cada elemento de esta lista es un diccionario que representa un cultivo. Cada diccionario contiene tres claves: `\"nombre\"` (el nombre del cultivo), `\"mes_siembra\"` (el mes ideal para sembrar ese cultivo) y `\"riego\"` (la necesidad de riego del cultivo).\n",
        "\n",
        "2.  **Función `recomendar_cultivos`**:\n",
        "    *   Define una función llamada `recomendar_cultivos` que toma dos argumentos: `lista_cultivos` (la lista de diccionarios de cultivos) y `mes_actual` (el mes que el usuario ingresa).\n",
        "    *   Inicializa una lista vacía llamada `cultivos_recomendados` para almacenar los nombres de los cultivos que se recomiendan para el mes dado.\n",
        "    *   Itera sobre cada `cultivo` en la `lista_cultivos`.\n",
        "    *   Dentro del bucle, compara el valor de la clave `\"mes_siembra\"` del cultivo actual con el `mes_actual` ingresado por el usuario. Se usa `.lower()` en ambos para asegurar que la comparación no distinga entre mayúsculas y minúsculas (por ejemplo, \"Mayo\" y \"mayo\" se consideran iguales).\n",
        "    *   Si los meses coinciden, el nombre del `cultivo` se añade a la lista `cultivos_recomendados`.\n",
        "    *   Finalmente, la función devuelve la lista `cultivos_recomendados`.\n",
        "\n",
        "3.  **Programa principal**:\n",
        "    *   Solicita al usuario que ingrese el mes actual utilizando la función `input()` y almacena la respuesta en la variable `mes_ingresado`.\n",
        "    *   Llama a la función `recomendar_cultivos`, pasándole la lista `cultivos` y el `mes_ingresado`. El resultado (la lista de cultivos recomendados) se almacena en la variable `recomendaciones`.\n",
        "    *   Verifica si la lista `recomendaciones` no está vacía (`if recomendaciones:`).\n",
        "        *   Si hay recomendaciones, imprime un mensaje indicando para qué mes son las recomendaciones y luego itera sobre la lista `recomendaciones` para imprimir cada cultivo recomendado en una línea separada con un guion.\n",
        "        *   Si la lista `recomendaciones` está vacía (no hay cultivos recomendados para ese mes), imprime un mensaje indicando que no hay recomendaciones para el mes ingresado."
      ]
    },
    {
      "cell_type": "markdown",
      "source": [
        "# Situación 2: Función para Validar Parámetros de Calidad\n",
        "\n",
        "Una planta recibe lotes de fruta y debe validar si cumplen con los parámetros de pH y grados Brix para ser aceptados. Crearás una función que centralice esta lógica de validación.\n",
        "• Paso a Paso del Código (Guía para el Notebook)\n",
        "# 1 Definir una función 'validar_lote' que tome dos parámetros: 'ph' y 'brix'.\n",
        "# 2 Dentro de la función, usar una estructura 'if' para verificar si el pH está\n",
        "entre 3.5 y 4.5 Y si los grados Brix son mayores a 12.\n",
        "# 3 Si ambas condiciones se cumplen, la función debe devolver el valor booleano\n",
        "True.\n",
        "# 4 De lo contrario (else), la función debe devolver el valor booleano False.\n",
        "# 5 En el programa principal, pedir al usuario el pH y los grados Brix del lote\n",
        "actual.\n",
        "# 6 Llamar a la función 'validar_lote' con los datos ingresados y guardar el\n",
        "resultado (True/False) en una variable.\n",
        "# 7 Usar un 'if' en el programa principal para comprobar el valor de esa variable.\n",
        "# 8 Si la variable es True, imprimir \"Lote APROBADO\". Si es False, imprimir \"Lote RECHAZADO\".\n"
      ],
      "metadata": {
        "id": "1N-kpQYp6X0Z"
      }
    },
    {
      "cell_type": "code",
      "source": [],
      "metadata": {
        "id": "4Hv6Sh7v65lL"
      },
      "execution_count": null,
      "outputs": []
    },
    {
      "cell_type": "code",
      "metadata": {
        "id": "c54393c7"
      },
      "source": [
        "# 1 Definir una función 'validar_lote' que tome dos parámetros: 'ph' y 'brix'.\n",
        "def validar_lote(ph, brix):\n",
        "    # 2 Dentro de la función, usar una estructura 'if' para verificar si el pH está\n",
        "    # entre 3.5 y 4.5 Y si los grados Brix son mayores a 12.\n",
        "    if 3.5 <= ph <= 4.5 and brix > 12:\n",
        "        # 3 Si ambas condiciones se cumplen, la función debe devolver el valor booleano\n",
        "        # True.\n",
        "        return True\n",
        "    # 4 De lo contrario (else), la función debe devolver el valor booleano False.\n",
        "    else:\n",
        "        return False"
      ],
      "execution_count": 4,
      "outputs": []
    },
    {
      "cell_type": "code",
      "metadata": {
        "colab": {
          "base_uri": "https://localhost:8080/"
        },
        "id": "20d26652",
        "outputId": "7e0f19c8-24c5-410c-f0ac-73b3ac77f4d7"
      },
      "source": [
        "# 5 En el programa principal, pedir al usuario el pH y los grados Brix del lote\n",
        "# actual.\n",
        "try:\n",
        "    ph_ingresado = float(input(\"Ingrese el valor de pH del lote: \"))\n",
        "    brix_ingresado = float(input(\"Ingrese los grados Brix del lote: \"))\n",
        "\n",
        "    # 6 Llamar a la función 'validar_lote' con los datos ingresados y guardar el\n",
        "    # resultado (True/False) en una variable.\n",
        "    lote_aprobado = validar_lote(ph_ingresado, brix_ingresado)\n",
        "\n",
        "    # 7 Usar un 'if' en el programa principal para comprobar el valor de esa variable.\n",
        "    # 8 Si la variable es True, imprimir \"Lote APROBADO\". Si es False, imprimir \"Lote RECHAZADO\".\n",
        "    if lote_aprobado:\n",
        "        print(\"Lote APROBADO\")\n",
        "    else:\n",
        "        print(\"Lote RECHAZADO\")\n",
        "\n",
        "except ValueError:\n",
        "    print(\"Entrada inválida. Por favor, ingrese valores numéricos para pH y Brix.\")"
      ],
      "execution_count": 7,
      "outputs": [
        {
          "output_type": "stream",
          "name": "stdout",
          "text": [
            "Ingrese el valor de pH del lote: 4\n",
            "Ingrese los grados Brix del lote: 13\n",
            "Lote APROBADO\n"
          ]
        }
      ]
    },
    {
      "cell_type": "code",
      "source": [],
      "metadata": {
        "id": "XdFt2F5r77Q7"
      },
      "execution_count": 6,
      "outputs": []
    },
    {
      "cell_type": "markdown",
      "metadata": {
        "id": "5c102cfb"
      },
      "source": [
        "Este código Python valida si un lote de fruta cumple con ciertos parámetros de calidad (pH y grados Brix).\n",
        "\n",
        "**Fragmento 1: Definición de la función `validar_lote`**"
      ]
    },
    {
      "cell_type": "code",
      "metadata": {
        "id": "4a61a7c2"
      },
      "source": [
        "# 5 En el programa principal, pedir al usuario el pH y los grados Brix del lote\n",
        "# actual.\n",
        "try:\n",
        "    ph_ingresado = float(input(\"Ingrese el valor de pH del lote: \"))\n",
        "    brix_ingresado = float(input(\"Ingrese los grados Brix del lote: \"))\n",
        "\n",
        "    # 6 Llamar a la función 'validar_lote' con los datos ingresados y guardar el\n",
        "    # resultado (True/False) en una variable.\n",
        "    lote_aprobado = validar_lote(ph_ingresado, brix_ingresado)\n",
        "\n",
        "    # 7 Usar un 'if' en el programa principal para comprobar el valor de esa variable.\n",
        "    # 8 Si la variable es True, imprimir \"Lote APROBADO\". Si es False, imprimir \"Lote RECHAZADO\".\n",
        "    if lote_aprobado:\n",
        "        print(\"Lote APROBADO\")\n",
        "    else:\n",
        "        print(\"Lote RECHAZADO\")\n",
        "\n",
        "except ValueError:\n",
        "    print(\"Entrada inválida. Por favor, ingrese valores numéricos para pH y Brix.\")"
      ],
      "execution_count": null,
      "outputs": []
    },
    {
      "cell_type": "markdown",
      "metadata": {
        "id": "c6e93bd8"
      },
      "source": [
        "En Python, `try` y `except` son bloques de código que se utilizan para manejar errores (o excepciones) que pueden ocurrir durante la ejecución de un programa.\n",
        "\n",
        "*   **`try`**: Este bloque contiene el código que podría generar una excepción. Python intenta ejecutar el código dentro del bloque `try`.\n",
        "*   **`except`**: Si ocurre una excepción dentro del bloque `try`, la ejecución salta al bloque `except`. El código dentro del bloque `except` se ejecuta solo si ocurre el tipo de excepción especificado (o cualquier excepción si no se especifica ninguna). Esto te permite manejar el error de una manera controlada y evitar que el programa se detenga abruptamente.\n",
        "\n",
        "En el contexto del código de validación de lotes, se utiliza `try` y `except ValueError` para manejar el caso en que el usuario ingrese algo que no sea un número cuando se le pide el pH o los grados Brix. Si el usuario ingresa texto en lugar de números, se producirá un `ValueError`, y el bloque `except ValueError` capturará ese error e imprimirá un mensaje amigable en lugar de que el programa falle."
      ]
    }
  ]
}